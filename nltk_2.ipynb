{
 "cells": [
  {
   "cell_type": "code",
   "execution_count": 2,
   "metadata": {},
   "outputs": [
    {
     "name": "stdout",
     "output_type": "stream",
     "text": [
      "*** Introductory Examples for the NLTK Book ***\n",
      "Loading text1, ..., text9 and sent1, ..., sent9\n",
      "Type the name of the text or sentence to view it.\n",
      "Type: 'texts()' or 'sents()' to list the materials.\n",
      "text1: Moby Dick by Herman Melville 1851\n",
      "text2: Sense and Sensibility by Jane Austen 1811\n",
      "text3: The Book of Genesis\n",
      "text4: Inaugural Address Corpus\n",
      "text5: Chat Corpus\n",
      "text6: Monty Python and the Holy Grail\n",
      "text7: Wall Street Journal\n",
      "text8: Personals Corpus\n",
      "text9: The Man Who Was Thursday by G . K . Chesterton 1908\n"
     ]
    }
   ],
   "source": [
    "import nltk \n",
    "from nltk.book import *"
   ]
  },
  {
   "cell_type": "code",
   "execution_count": 4,
   "metadata": {},
   "outputs": [],
   "source": [
    "from nltk.probability import ConditionalFreqDist\n",
    "from collections import Counter\n",
    "import re\n",
    "import operator\n",
    "from nltk import ngrams\n",
    "import matplotlib.pyplot as plt\n",
    "import numpy as np"
   ]
  },
  {
   "cell_type": "code",
   "execution_count": 19,
   "metadata": {},
   "outputs": [
    {
     "name": "stdout",
     "output_type": "stream",
     "text": [
      "29263\n"
     ]
    }
   ],
   "source": [
    "#zad 1 \n",
    "#liczba bigramów\n",
    "bgs = nltk.bigrams(text5)\n",
    "print(len(set(bgs)))"
   ]
  },
  {
   "cell_type": "code",
   "execution_count": 38,
   "metadata": {},
   "outputs": [
    {
     "name": "stdout",
     "output_type": "stream",
     "text": [
      "[(('.', 'ACTION'), 346), (('PART', 'JOIN'), 191), (('JOIN', 'PART'), 136), (('PART', 'PART'), 115), (('JOIN', 'JOIN'), 107), (('I', \"'m\"), 89), (('.', 'JOIN'), 79), (('pm', 'me'), 76), (('in', 'the'), 75), (('are', 'you'), 65)]\n",
      "[('.', 1268), ('JOIN', 1021), ('PART', 1016), ('?', 737), ('lol', 704), ('to', 658), ('i', 648), ('the', 646), ('you', 635), (',', 596)]\n"
     ]
    }
   ],
   "source": [
    "#10 bigramów \n",
    "bgs = nltk.bigrams(text5)\n",
    "counts = Counter(bgs)\n",
    "print(counts.most_common(10))\n",
    "#10 słów \n",
    "\n",
    "def word_count(text):\n",
    "    v=text\n",
    "    counts=dict()\n",
    "    for word in text:\n",
    "        if word in counts:\n",
    "            counts[word]+=1\n",
    "        else:\n",
    "            counts[word]=1\n",
    "    counts= sorted(counts.items(), key=operator.itemgetter(1),reverse=True)\n",
    "    return counts[:10]\n",
    "print(word_count(text5))"
   ]
  },
  {
   "cell_type": "code",
   "execution_count": 56,
   "metadata": {},
   "outputs": [
    {
     "name": "stdout",
     "output_type": "stream",
     "text": [
      "3 ---- 40922\n",
      "4 ---- 43291\n",
      "5 ---- 43912\n",
      "6 ---- 44174\n"
     ]
    }
   ],
   "source": [
    "#zad 2\n",
    "for i in range(3,7):\n",
    "    print(i, \"----\",(len(set(ngrams(text5,i)))))"
   ]
  },
  {
   "cell_type": "code",
   "execution_count": 178,
   "metadata": {},
   "outputs": [
    {
     "name": "stdout",
     "output_type": "stream",
     "text": [
      "[40922, 43291, 43912, 44174]\n"
     ]
    },
    {
     "data": {
      "image/png": "[encoded data removed]",
      "text/plain": [
       "<Figure size 432x288 with 1 Axes>"
      ]
     },
     "metadata": {
      "needs_background": "light"
     },
     "output_type": "display_data"
    }
   ],
   "source": [
    "#zad 3\n",
    "lens = []\n",
    "for i in range(3,7):\n",
    "    lens.append(len(set(ngrams(text5,i))))\n",
    "print(lens)\n",
    "\n",
    "plt.bar((3,4,5,6),lens,color='b')\n",
    "plt.xticks(np.arange(3,7, step=1))\n",
    "plt.yticks(np.arange(0,45000, step=5000))\n",
    "plt.title('ngrams in text5')\n",
    "plt.show()\n"
   ]
  },
  {
   "cell_type": "code",
   "execution_count": 4,
   "metadata": {},
   "outputs": [
    {
     "name": "stdout",
     "output_type": "stream",
     "text": [
      "3256\n",
      "['Wiersz', ',', ',Dziwna', 'Rymowanka', \"''\"]\n"
     ]
    }
   ],
   "source": [
    "#zad4\n",
    "from urllib.request import urlopen\n",
    "# laczenie z url i plikiem tekstowym\n",
    "url = \"http://inf.ug.edu.pl/~jj/04cars.txt\"\n",
    "raw = urlopen(url).read()\n",
    "#zapytanie\n",
    "print(len(raw))\n",
    "# w ponizszym poleceniu zaklada się, ze dysk pomocniczy (pendrive)\n",
    "# jest oznaczony f\n",
    "# zaklada sie, ze w katalogu _nlp jest plik tekstowy lab.txt\n",
    "# jesli jest inaczej, to należy ZMIENIC!\n",
    "f=open(r\"C:\\Users\\panij\\Desktop\\tekst.txt\")\n",
    "raw=f.read()\n",
    "tokens = nltk.word_tokenize(raw)\n",
    "# 5 elementow od poczatku\n",
    "print(tokens[:5])"
   ]
  },
  {
   "cell_type": "code",
   "execution_count": 5,
   "metadata": {},
   "outputs": [
    {
     "name": "stdout",
     "output_type": "stream",
     "text": [
      "['dusting', 'leaving', 'rolling', 'painstaking', 'picking', 'touching', 'appearing', 'entertaining', 'affording', 'glancing']\n"
     ]
    }
   ],
   "source": [
    "#zad 5 \n",
    "#ing = re.search(\"ing$\",\"swiming is gun walking is not\"))\n",
    "ing = [w for w in text1 if re.search(\"ing$\", w)]\n",
    "print(ing[:10])"
   ]
  },
  {
   "cell_type": "code",
   "execution_count": 5,
   "metadata": {},
   "outputs": [
    {
     "name": "stdout",
     "output_type": "stream",
     "text": [
      "356465\n"
     ]
    }
   ],
   "source": [
    "#samogłoski\n",
    "count=0\n",
    "for w in text1: \n",
    "    for i in w.lower(): \n",
    "        if re.match(\"[aeiou]\",i):\n",
    "            count+=1\n",
    "print(count)"
   ]
  },
  {
   "cell_type": "code",
   "execution_count": 149,
   "metadata": {},
   "outputs": [
    {
     "name": "stdout",
     "output_type": "stream",
     "text": [
      "[]\n"
     ]
    }
   ],
   "source": [
    "#U.S.A\n",
    "USA = [w for w in text4 if re.match(\"U.S.A\", w)]\n",
    "print(USA)\n",
    "#nie występuje w tekście"
   ]
  },
  {
   "cell_type": "code",
   "execution_count": 6,
   "metadata": {},
   "outputs": [
    {
     "name": "stdout",
     "output_type": "stream",
     "text": [
      "['C{a}ll', 'me', 'Ishm{a}el', '.']\n",
      "\n",
      "\n",
      "Wiersz ,,Dziwn{a} Rymow{a}nk{a}\"\n",
      "\n",
      "Pewien ż{a}rłok nie n{a}ż{a}rty\n",
      "r{a}z wygłodni{a}ł nie n{a} ż{a}rty.\n",
      "I wywiesił szyld n{a} płocie\n",
      "że ochotę m{a} n{a} płocie.\n",
      "Tut{a}j n{a} br{a}k ryb n{a}rzek{a},\n",
      "bo d{a}leko rybn{a} rzek{a}.\n",
      "Więc się zgłosił pewien żebr{a}k\n",
      "i rzekł ż{a}rłokowi, że br{a}k:\n",
      "płoci, k{a}rpi or{a}z śledzi,\n",
      "{a}le rzeki pilnie śledzi,\n",
      "i gdy tylko będzie w st{a}nie\n",
      "to o świcie z łóżk{a} wst{a}nie,\n",
      "po czym ruszy n{a} Pomorze\n",
      "i w zdobyciu ryb pomoże.\n",
      "Odtąd ż{a}rłok n{a}s jedynie,\n",
      "Odtąd ż{a}rłok n{a}s jedynie,\n",
      "Odtąd ż{a}rłok n{a}s jedynie,\n",
      "z{a}mi{a}st sm{a}cznych ryb je dynie.\n"
     ]
    }
   ],
   "source": [
    "#zad 6 \n",
    "nltk.re_show(\"a\", str(sent1))\n",
    "print(\"\\n\")\n",
    "f=open(r\"C:\\Users\\panij\\Desktop\\tekst.txt\")\n",
    "raw=f.read()\n",
    "nltk.re_show(\"a\", str(raw))"
   ]
  }
 ],
 "metadata": {
  "kernelspec": {
   "display_name": "Python 3",
   "language": "python",
   "name": "python3"
  },
  "language_info": {
   "codemirror_mode": {
    "name": "ipython",
    "version": 3
   },
   "file_extension": ".py",
   "mimetype": "text/x-python",
   "name": "python",
   "nbconvert_exporter": "python",
   "pygments_lexer": "ipython3",
   "version": "3.7.3"
  }
 },
 "nbformat": 4,
 "nbformat_minor": 2
}
