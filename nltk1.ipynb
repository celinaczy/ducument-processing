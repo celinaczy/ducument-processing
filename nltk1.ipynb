{
 "cells": [
  {
   "cell_type": "code",
   "execution_count": null,
   "metadata": {},
   "outputs": [
    {
     "name": "stdout",
     "output_type": "stream",
     "text": [
      "showing info https://raw.githubusercontent.com/nltk/nltk_data/gh-pages/index.xml\n"
     ]
    }
   ],
   "source": [
    "import nltk\n",
    "nltk.download()\n",
    "from nltk.book import *"
   ]
  },
  {
   "cell_type": "code",
   "execution_count": 19,
   "metadata": {},
   "outputs": [],
   "source": [
    "import re\n",
    "import operator"
   ]
  },
  {
   "cell_type": "code",
   "execution_count": 29,
   "metadata": {},
   "outputs": [
    {
     "name": "stdout",
     "output_type": "stream",
     "text": [
      "monstrous_of\n",
      "No common contexts were found\n",
      "took_of\n",
      "No common contexts were found\n",
      "oh_, :)_i me_part\n"
     ]
    }
   ],
   "source": [
    "#część 1\n",
    "text1.common_contexts([\"stories\", \"pictures\"])\n",
    "text2.common_contexts([\"nice\", \"good\"])\n",
    "text3.common_contexts([\"one\", \"two\"])\n",
    "text4.common_contexts([\"red\", \"blue\"])\n",
    "text5.common_contexts([\"no\", \"yes\"])"
   ]
  },
  {
   "cell_type": "code",
   "execution_count": 48,
   "metadata": {},
   "outputs": [
    {
     "name": "stdout",
     "output_type": "stream",
     "text": [
      "text    liczba słów     słowa różne     lexical_diversity\n",
      "text1   260819          19317           0.07406285585022564\n",
      "text2   141576          6833            0.04826383002768831\n",
      "text3   44764           2789            0.06230453042623537\n",
      "text4   149797          9913            0.06617622515804722\n",
      "text5   45010           6066            0.13477005109975562\n"
     ]
    }
   ],
   "source": [
    "#część 2 \n",
    "#zadanie 1\n",
    "# Korzystając z funkcji lexical diversity uzupelnić poniższą tabelkę dla danych z nltk.book\n",
    "def lexical_diversity(text):\n",
    "   return len(set(text)) / len(text)\n",
    "\n",
    "def wiersz(text):\n",
    "   print((\"{: <15} {: <15} {: <15}\".format(len(text),len(set(text)),lexical_diversity(text))))\n",
    "\n",
    "teksty_nazwa = [\"text1\", \"text2\", \"text3\", \"text4\",\"text5\"]\n",
    "teksty = [text1, text2, text3, text4,text5]\n",
    "print((\"{: <8}{: <15} {: <15} {: <15}\".format(\"text\",\"liczba słów\",\"słowa różne\",\"lexical_diversity\")))\n",
    "for i in range(5):\n",
    "    n=i\n",
    "    print(\"{: <8}\".format(teksty_nazwa[n]),end='')\n",
    "    wiersz(teksty[n])"
   ]
  },
  {
   "cell_type": "code",
   "execution_count": 120,
   "metadata": {},
   "outputs": [
    {
     "name": "stdout",
     "output_type": "stream",
     "text": [
      "['lest', 'each', 'find', 'Jebb', 'Sirs', 'jibs', 'wife', 'wane', 'hang', 'help', 'obey', 'stun', 'nuts', 'IBID', 'fuss', 'lava', 'tell', 'TOLD', 'show', 'heel', 'pelt', 'pale', 'feel', 'Have', 'alas', 'Gods', 'burn', 'walk', 'task', 'snap', 'weak', 'take', 'Tash', 'wide', 'sold', 'Anno', 'Your', 'waxy', 'cask', 'Mote', 'home', 'very', 'sire', 'warp', 'Cape', 'chap', 'Adam', 'toes', 'fang', 'make', 'been', 'wash', 'Gate', 'cent', 'lift', 'leap', 'Lais', 'desk', 'bass', 'cats', 'scud', 'save', 'rats', 'FROM', 'deal', 'hurt', 'much', 'HVAL', 'bees', 'mode', 'bolt', 'Tied', 'Pray', 'HALF', 'LAMB', 'MAIN', 'tidy', 'Ding', 'ease', 'Dusk', 'lead', 'Thus', 'lend', 'lake', 'baby', 'even', 'tail', 'Shem', 'tall', 'Wave', 'Manx', 'stab', 'Most', 'odor', 'womb', 'Goat', 'Wish', 'poke', 'jure', 'main', 'bout', 'view', 'text', 'hair', 'fond', 'gash', 'dark', 'cell', 'sent', 'weed', 'vast', 'Obed', 'bald', 'dint', 'Base', 'pain', 'WHAT', 'High', 'bomb', 'jury', 'also', 'woof', 'unto', 'awls', 'LORD', 'gums', 'WISE', 'hist', 'hose', 'Fate', 'Cain', 'HOLY', 'Bout', 'clue', 'MACY', 'Fool', 'part', 'Juan', 'Born', 'came', 'thou', 'vice', 'rags', 'boys', 'mark', 'call', 'aged', 'hows', 'harp', 'Fine', 'King', 'hove', 'WIND', 'defy', 'pass', 'bull', 'Wind', 'BOAT', 'knew', 'apex', 'gaff', 'meat', 'deed', 'foie', 'toss', 'mean', 'drew', 'moss', 'rips', 'kith', 'hams', 'Dame', 'flaw', 'Drat', 'pate', 'rind', 'hies', 'down', 'wake', 'bear', 'pack', 'self', 'roof', 'crab', 'soap', 'nigh', 'oats', 'Moss', 'Mary', 'dabs', 'fire', 'gaze', 'Hope', 'adds', 'Hear', 'come', 'made', 'Near', 'reef', 'race', 'soft', 'area', 'stig', 'Loom', 'hoop', 'DEAD', 'tone', 'laws', 'host', 'base', 'gilt', 'pony', 'arid', 'Post', 'Alas', 'clam', 'Wall', 'moon', 'Fast', 'weld', 'HAND', 'vats', 'Shut', 'read', 'shoe', 'pear', 'shop', 'glad', 'bier', 'sick', 'pang', 'hiss', 'puts', 'trod', 'glow', 'hain', 'bunk', 'Sell', 'Make', 'bulk', 'Holy', 'dial', 'nose', 'Pass', 'ones', 'flat', 'OVER', 'pick', 'hasn', 'Look', 'tops', 'Real', 'gill', 'scan', 'ahoy', 'sons', 'wave', 'lost', 'Fata', 'tusk', 'fell', 'hook', 'mere', 'Hind', 'Lost', 'hate', 'lion', 'play', 'chin', 'lure', 'seam', 'vile', 'Vice', 'hall', 'risk', 'feed', 'PAID', 'zone', 'poem', 'idea', 'heir', 'pine', 'Nile', 'moot', 'copy', 'saws', 'nods', 'eddy', 'Come', 'GOES', 'push', 'brit', 'dead', 'trap', 'Subs', 'seed', 'outs', 'whim', 'test', 'weal', 'wink', 'haze', 'spin', 'LIFE', 'foot', 'bite', 'Dome', 'jerk', 'grin', 'brig', 'west', 'cage', 'sped', 'layn', 'bind', 'Sail', 'MANX', 'from', 'vane', 'oils', 'amid', 'cape', 'Tell', 'pump', 'what', 'tide', 'mugs', 'born', 'gamy', 'tune', 'hide', 'suit', 'bore', 'boil', 'tend', 'hint', 'Seas', 'pore', 'tale', 'Hard', 'true', 'lath', 'Step', 'ills', 'east', 'sole', 'link', 'Damn', 'lamp', 'lave', 'knot', 'fold', 'Keel', 'long', 'THEN', 'mood', 'prop', 'flea', 'soar', 'mout', 'left', 'AHAB', 'Case', 'fray', 'fish', 'lock', 'hast', 'cobs', 'awed', 'boat', 'Full', 'fail', 'tame', 'tore', 'wall', 'edge', 'rose', 'Then', 'bowl', 'eave', 'glen', 'cane', 'grey', 'fuel', 'hish', 'Port', 'deck', 'plum', 'pose', 'hill', 'load', 'SETH', 'calm', 'wore', 'hand', 'coal', 'grim', 'wing', 'vero', 'Land', 'ONLY', 'whit', 'tost', 'POKE', 'damp', 'soot', 'FISH', 'Laws', 'Jump', 'Best', 'lard', 'held', 'Feel', 'Will', 'paws', 'slip', 'hits', 'teak', 'Easy', 'BACK', 'Fear', 'Only', 'oath', 'ewer', 'limb', 'sets', 'game', 'when', 'them', 'lurk', 'dust', 'dong', 'itch', 'Sons', 'rank', 'Jury', 'Tall', 'sill', 'foam', 'slim', 'Here', 'poor', 'bond', 'Shan', 'cite', 'safe', 'fort', 'Gros', 'GOOD', 'done', 'deem', 'lazy', 'tens', 'Haul', 'Bull', 'lots', 'crow', 'book', 'pike', 'Paul', 'door', 'wine', 'bath', 'Duck', 'lays', 'cant', 'paid', 'pods', 'nate', 'foes', 'shot', 'lose', 'keel', 'Says', 'dusk', 'Hull', 'YOUR', 'gulp', 'acre', 'Less', 'OBED', 'SOME', 'Thee', 'ober', 'Upon', 'Both', 'ajar', 'Hoot', 'sell', 'Moby', 'roar', 'July', 'pave', 'tink', 'flap', 'hope', 'goat', 'maid', 'Bang', 'Ahoy', 'babe', 'veer', 'drab', 'bird', 'Iron', 'BOOK', 'palm', 'Away', 'ants', 'Help', 'Rose', 'pool', 'lads', 'quit', 'flag', 'tiny', 'suck', 'Jerk', 'HWAL', 'LOST', 'news', 'Fogo', 'glee', 'five', 'Even', 'suns', 'pawn', 'flow', 'fact', 'pell', 'cosy', 'THAT', 'sits', 'cast', 'LAID', 'abed', 'hour', 'torn', 'Poor', 'sulk', 'ails', 'THUS', 'sore', 'Pity', 'step', 'EYES', 'YORK', 'rake', 'Good', 'puff', 'Lama', 'care', 'hoar', 'bell', 'this', 'Slip', 'tows', 'Alps', 'East', 'Down', 'WALW', 'twas', 'rise', 'hypo', 'spos', 'room', 'fist', 'hump', 'Noah', 'Much', 'maty', 'Sway', 'Deer', 'CETI', 'bids', 'worn', 'fine', 'bars', 'pour', 'rope', 'seen', 'mock', 'ruin', 'hurl', 'fore', 'mace', 'Hill', 'lieu', 'pity', 'dart', 'iron', 'wept', 'sage', 'nine', 'skip', 'fall', 'year', 'coat', 'deny', 'sigh', 'hues', 'heed', 'Ever', 'knit', 'list', 'doer', 'does', 'fain', 'orbs', 'Sing', 'Yojo', 'Luck', 'Yale', 'less', 'nice', 'Hail', 'sunk', 'June', 'cope', 'Hall', 'caps', 'page', 'loan', 'wool', 'Cato', 'feud', 'span', 'lees', 'coin', 'mate', 'hear', 'pens', 'Doom', 'pork', 'thee', 'comb', 'Cash', 'fogs', 'Heed', 'hung', 'bone', 'LONG', 'boot', 'slew', 'Park', 'anew', 'woes', 'drat', 'Late', 'Once', 'Twas', 'fare', 'rays', 'shad', 'Leap', 'Thou', 'curb', 'Pooh', 'raal', 'oust', 'halt', 'YARD', 'pint', 'Dost', 'Jack', 'Mene', 'warm', 'VEIN', 'bats', 'haul', 'rage', 'Boat', 'Also', 'DECK', 'Pine', 'Hand', 'mast', 'ague', 'Fore', 'anus', 'love', 'REST', 'sink', 'able', 'idly', 'tied', 'drag', 'luff', 'nail', 'sign', 'Give', 'leaf', 'hymn', 'True', 'NOUN', 'noon', 'song', 'Face', 'Tail', 'wick', 'tomb', 'soul', 'duff', 'HIST', 'Bear', 'vent', 'ever', 'neck', 'oval', 'ties', 'Drop', 'than', 'pads', 'twig', 'leak', 'NEST', 'sash', 'date', 'sees', 'Luff', 'DOWN', 'beak', 'VICE', 'tawn', 'shut', 'solo', 'seas', 'work', 'Davy', 'eels', 'OWEN', 'gold', 'loam', 'tray', 'gulf', 'body', 'Ahaz', 'wire', 'sway', 'sand', 'wise', 'vain', 'sled', 'Seek', 'Dish', 'rend', 'Fife', 'pail', 'ween', 'CHOP', 'case', 'mell', 'kine', 'eyes', 'pooh', 'Stir', 'whew', 'purr', 'duty', 'tube', 'clay', 'some', 'Furl', 'Cave', 'Find', 'dome', 'blow', 'Omen', 'Into', 'hunt', 'amen', 'cook', 'Lane', 'hare', 'said', 'lins', 'Five', 'holy', 'TRUE', 'Hast', 'mill', 'foal', 'Boys', 'herd', 'lung', 'sort', 'nape', 'joky', 'joke', 'Gold', 'mute', 'Pole', 'nick', 'That', 'till', 'Fish', 'dood', 'spat', 'Time', 'eggs', 'peak', 'hoky', 'girl', 'Lose', 'didn', 'belt', 'duck', 'oaks', 'band', 'bung', 'tool', 'upon', 'path', 'navy', 'seal', 'dies', 'name', 'spar', 'meal', 'Esau', 'foul', 'doom', 'quig', 'York', 'cock', 'Well', 'sing', 'miss', 'COLL', 'rock', 'rule', 'bawl', 'Lent', 'used', 'kiss', 'reel', 'knob', 'Yoke', 'drop', 'wasn', 'term', 'Like', 'When', 'told', 'plan', 'Want', 'grew', 'Spin', 'wail', 'were', 'port', 'Bess', 'Many', 'dost', 'lint', 'They', 'Coke', 'clad', 'JOHN', 'clan', 'neat', 'thro', 'sofa', 'side', 'Rope', 'fate', 'trio', 'thin', 'grow', 'sawn', 'seer', 'mail', 'jaws', 'ache', 'Snap', 'blew', 'Head', 'bake', 'Toes', 'Mind', 'word', 'talk', 'lips', 'bade', 'Kick', 'bale', 'goes', 'tint', 'move', 'junk', 'aint', 'core', 'Talk', 'atom', 'cone', 'loom', 'bump', 'Clap', 'huge', 'wild', 'Buoy', 'soak', 'pipe', 'runs', 'lies', 'pomp', 'Must', 'know', 'form', 'HUMP', 'quay', 'Such', 'gain', 'such', 'toad', 'loud', 'FIFE', 'dumb', 'Lank', 'colt', 'Mate', 'beer', 'Sink', 'ding', 'male', 'gush', 'lady', 'Saco', 'bark', 'lime', 'pond', 'brim', 'prey', 'Till', 'wary', 'awry', 'stir', 'rosy', 'else', 'shed', 'land', 'robe', 'swum', 'hemp', 'rare', 'Brit', 'CROW', 'Hemp', 'says', 'rapt', 'nets', 'want', 'knee', 'once', 'coax', 'gets', 'Beat', 'Days', 'luck', 'seat', 'next', 'ride', 'tags', 'slay', 'FEET', 'OPEN', 'tack', 'Year', 'gasp', 'ends', 'howl', 'STEP', 'dish', 'rail', 'liar', 'swim', 'slap', 'huff', 'turn', 'bevy', 'tape', 'poky', 'LINE', 'elks', 'inns', 'Owen', 'Plum', 'KING', 'jump', 'berg', 'pray', 'bury', 'bust', 'well', 'Gulf', 'bank', 'hold', 'MORE', 'Jesu', 'THEY', 'cows', 'View', 'envy', 'mane', 'slit', 'daft', 'Erie', 'Ohio', 'keys', 'Tish', 'fury', 'salt', 'buck', 'Pipe', 'hoot', 'rang', 'bent', 'kink', 'shod', 'swap', 'mown', 'vial', 'rust', 'deaf', 'dull', 'Peru', 'sich', 'maze', 'Saul', 'Mend', 'worm', 'busy', 'drug', 'More', 'Gall', 'demi', 'cuts', 'Java', 'gras', 'sake', 'arts', 'Horn', 'maim', 'nest', 'joes', 'Flat', 'beef', 'roly', 'Hist', 'ebbs', 'Jove', 'fast', 'Dons', 'hems', 'jiff', 'helm', 'snow', 'lets', 'hero', 'deep', 'Same', 'Cock', 'zeal', 'days', 'glue', 'wert', 'mend', 'Work', 'Wolf', 'Know', 'acts', 'star', 'brag', 'card', 'INTO', 'same', 'hone', 'Arch', 'Read', 'HEAD', 'Keep', 'loon', 'ebon', 'Bell', 'BRIT', 'went', 'cove', 'twin', 'Oars', 'sued', 'Cold', 'West', 'Didn', 'Ross', 'Just', 'pace', 'wood', 'will', 'Akin', 'took', 'TIME', 'hail', 'crim', 'send', 'full', 'Diaz', 'rows', 'idol', 'cure', 'gown', 'hued', 'Swim', 'Seen', 'parm', 'dung', 'beat', 'czar', 'Tyre', 'Book', 'gore', 'Dart', 'laid', 'mess', 'gape', 'pert', 'Each', 'poop', 'Nick', 'keen', 'pins', 'Call', 'lens', 'wrap', 'Cuba', 'Auto', 'Jago', 'then', 'uses', 'Glen', 'owns', 'time', 'with', 'late', 'slow', 'ergo', 'Grin', 'rate', 'dogs', 'head', 'Ages', 'fled', 'brow', 'Nose', 'alms', 'skin', 'shun', 'damn', 'ours', 'twos', 'VIDE', 'just', 'hazy', 'like', 'odds', 'glim', 'eyed', 'Asia', 'line', 'gone', 'lack', 'hark', 'barb', 'horn', 'dive', 'sail', 'mind', 'stem', 'Herr', 'Isle', 'Pott', 'WHEN', 'Fain', 'dock', 'Gull', 'echo', 'Cant', 'past', 'grab', 'harm', 'Pale', 'oder', 'dent', 'rain', 'Line', 'calf', 'best', 'viol', 'Crew', 'chat', 'Seed', 'jars', 'pier', 'bask', 'tars', 'With', 'ROSE', 'coil', 'Mast', 'Some', 'Hell', 'size', 'Bays', 'furs', 'join', 'Dead', 'buoy', 'ages', 'Deep', 'near', 'butt', 'omen', 'code', 'Dick', 'lace', 'quid', 'blue', 'peer', 'fool', 'dewy', 'Kant', 'pall', 'bill', 'jobs', 'LEAP', 'lick', 'firm', 'Anne', 'beds', 'SAIL', 'snug', 'hole', 'gull', 'eber', 'rich', 'RIBS', 'post', 'nill', 'Roar', 'lain', 'spit', 'Gone', 'Back', 'bred', 'grub', 'gale', 'here', 'kiln', 'Bite', 'Khan', 'dere', 'omit', 'face', 'Juba', 'bend', 'crew', 'grip', 'Duke', 'arch', 'thus', 'kill', 'corn', 'loaf', 'duly', 'draw', 'flew', 'flip', 'Stop', 'MATE', 'Argo', 'Long', 'TUBS', 'cord', 'Hook', 'Fits', 'over', 'rout', 'rude', 'Seat', 'togs', 'NINE', 'surf', 'suds', 'kept', 'musk', 'gout', 'mine', 'swam', 'Flip', 'SEEN', 'bits', 'cash', 'city', 'look', 'need', 'veil', 'pile', 'must', 'eely', 'ball', 'gate', 'UPON', 'opal', 'This', 'ears', 'have', 'hoof', 'Very', 'cups', 'jack', 'doze', 'boom', 'hawk', 'logs', 'yarn', 'Crab', 'legs', 'diet', 'Grub', 'Nail', 'wade', 'Weep', 'flog', 'morn', 'wand', 'Clam', 'lamb', 'NUEE', 'vest', 'anon', 'Dash', 'Smut', 'reap', 'seek', 'tyro', 'Rome', 'spot', 'slid', 'Earl', 'more', 'ugly', 'loop', 'rack', 'peep', 'heap', 'tent', 'Siam', 'Were', 'clap', 'silk', 'tree', 'gait', 'Huge', 'HERE', 'feat', 'milk', 'Lamp', 'yore', 'Said', 'sack', 'jogs', 'dale', 'feet', 'Soon', 'sown', 'dear', 'open', 'tubs', 'Mean', 'ASIA', 'cubs', 'Elbe', 'wilt', 'mite', 'wast', 'Czar', 'road', 'dare', 'pest', 'hath', 'maul', 'Whom', 'pure', 'sung', 'hats', 'sect', 'yell', 'Turn', 'Turk', 'fits', 'rear', 'writ', 'whom', 'into', 'soil', 'tick', 'Lord', 'Trap', 'ripe', 'THEM', 'anti', 'vine', 'army', 'fowl', 'Aunt', 'cart', 'Wild', 'fins', 'rest', 'lump', 'melt', 'Feet', 'Kill', 'LAYS', 'ways', 'moor', 'From', 'Free', 'imps', 'moth', 'Deck', 'akin', 'jeer', 'gnaw', 'tear', 'mong', 'wont', 'Cook', 'bait', 'wits', 'hush', 'sang', 'mild', 'chip', 'John', 'Abel', 'What', 'Slid', 'claw', 'inch', 'lent', 'cake', 'Wood', 'warn', 'Ahab', 'Rock', 'gods', 'Push', 'RAPE', 'shan', 'arms', 'Skin', 'Star', 'wery', 'lily', 'ribs', 'meet', 'Bone', 'pays', 'wipe', 'wish', 'hags', 'most', 'site', 'ript', 'Fitz', 'Witt', 'note', 'sure', 'soon', 'vale', 'stay', 'rods', 'wavy', 'both', 'Jews', 'dams', 'eats', 'Stab', 'Pull', 'toed', 'weep', 'ceti', 'tilt', 'Hark', 'guns', 'Hake', 'gift', 'axis', 'ROLL', 'oily', 'HELM', 'wait', 'bush', 'pull', 'Junk', 'hard', 'SHIP', 'marl', 'whip', 'Roll', 'give', 'isle', 'Cods', 'Ship', 'died', 'Emir', 'king', 'lege', 'pole', 'mule', 'Hold', 'PHIL', 'mist', 'fork', 'real', 'HARD', 'alow', 'TELL', 'yard', 'Oahu', 'keep', 'cool', 'last', 'hell', 'jail', 'heat', 'SAID', 'none', 'tons', 'Pope', 'half', 'live', 'wear', 'vein', 'Macy', 'evil', 'Wise', 'food', 'Clay', 'flee', 'trip', 'Send', 'they', 'ibis', 'Lake', 'free', 'high', 'LOCK', 'bulb', 'item', 'Form', 'town', 'stop', 'waif', 'oxen', 'fair', 'Next', 'SONG', 'beam', 'ROSS', 'rush', 'week', 'SURE', 'Lima', 'kind', 'Town', 'TAIL', 'phiz', 'many', 'jets', 'WITH', 'lean', 'ring', 'lull', 'lord', 'bled', 'pout', 'hind', 'sane', 'gang', 'yoke', 'veal', 'life', 'good', 'THAR', 'tuns', 'mask', 'roll', 'Main', 'Bare', 'mazy', 'cost', 'easy', 'only', 'Quog', 'None', 'COOK', 'Pegu', 'Sure', 'lids', 'mass', 'THEE', 'scar', 'lone', 'cork', 'Pots', 'pans', 'ship', 'brew', 'Whew', 'seem', 'wind', 'Evil', 'crop', 'THIS', 'tips', 'felt', 'cave', 'that', 'Fill', 'pill', 'PADS', 'Mark', 'bows', 'type', 'Over', 'loss', 'sank', 'Legs', 'gave', 'mole', 'Does', 'dawn', 'Life', 'poet', 'hogs', 'goal', 'oars', 'deer', 'barn', 'away', 'semi', 'bony', 'Helm', 'grog', 'hull', 'bare', 'Wife', 'Blue', 'goin', 'Lion', 'mile', 'root', 'your', 'WORK', 'bold', 'tier', 'Hang', 'trim', 'mint', 'Fair', 'dash', 'boon', 'file', 'vows', 'cold', 'pair', 'afar', 'pent', 'back', 'fill', 'fear', 'idle', 'Anak', 'poly', 'pots', 'toil', 'oozy', 'bags', 'Hish', 'plug', 'kick', 'duke', 'JAGO', 'lash', 'club', 'four', 'Take', 'FAIR', 'EDGE', 'prow']\n",
      "1701\n"
     ]
    }
   ],
   "source": [
    "#zadanie 2\n",
    "#Stwórz listę wszystkich słów 4-literowych z text1. Ile ich jest?\n",
    "letter4=[]\n",
    "inter = [\"!\",\".\",\"?\",\":\",\";\",\",\",\"-\",\"'\",'0','1', '2', '3', '4', '5', '6', '7', '8', '9']\n",
    "\n",
    "for i in set(text1):\n",
    "    if len(i)==4:\n",
    "            letter4.append(i)\n",
    "for j in inter:\n",
    "    for i in letter4:\n",
    "        if j in i:\n",
    "            letter4.remove(i)\n",
    "        \n",
    "print(letter4)\n",
    "print(len(letter4))"
   ]
  },
  {
   "cell_type": "code",
   "execution_count": 1,
   "metadata": {},
   "outputs": [
    {
     "ename": "NameError",
     "evalue": "name 'text1' is not defined",
     "output_type": "error",
     "traceback": [
      "\u001b[1;31m---------------------------------------------------------------------------\u001b[0m",
      "\u001b[1;31mNameError\u001b[0m                                 Traceback (most recent call last)",
      "\u001b[1;32m<ipython-input-1-94a277269372>\u001b[0m in \u001b[0;36m<module>\u001b[1;34m\u001b[0m\n\u001b[0;32m      3\u001b[0m \u001b[0minter\u001b[0m \u001b[1;33m=\u001b[0m \u001b[1;33m[\u001b[0m\u001b[1;34m\"!\"\u001b[0m\u001b[1;33m,\u001b[0m\u001b[1;34m\".\"\u001b[0m\u001b[1;33m,\u001b[0m\u001b[1;34m\"?\"\u001b[0m\u001b[1;33m,\u001b[0m\u001b[1;34m\":\"\u001b[0m\u001b[1;33m,\u001b[0m\u001b[1;34m\";\"\u001b[0m\u001b[1;33m,\u001b[0m\u001b[1;34m\",\"\u001b[0m\u001b[1;33m,\u001b[0m\u001b[1;34m\"-\"\u001b[0m\u001b[1;33m,\u001b[0m\u001b[1;34m'0'\u001b[0m\u001b[1;33m,\u001b[0m\u001b[1;34m\"''\"\u001b[0m\u001b[1;33m,\u001b[0m\u001b[1;34m'1'\u001b[0m\u001b[1;33m,\u001b[0m \u001b[1;34m'2'\u001b[0m\u001b[1;33m,\u001b[0m \u001b[1;34m'3'\u001b[0m\u001b[1;33m,\u001b[0m \u001b[1;34m'4'\u001b[0m\u001b[1;33m,\u001b[0m \u001b[1;34m'5'\u001b[0m\u001b[1;33m,\u001b[0m \u001b[1;34m'6'\u001b[0m\u001b[1;33m,\u001b[0m \u001b[1;34m'7'\u001b[0m\u001b[1;33m,\u001b[0m \u001b[1;34m'8'\u001b[0m\u001b[1;33m,\u001b[0m \u001b[1;34m'9'\u001b[0m\u001b[1;33m]\u001b[0m\u001b[1;33m\u001b[0m\u001b[1;33m\u001b[0m\u001b[0m\n\u001b[0;32m      4\u001b[0m \u001b[1;33m\u001b[0m\u001b[0m\n\u001b[1;32m----> 5\u001b[1;33m \u001b[1;32mfor\u001b[0m \u001b[0mi\u001b[0m \u001b[1;32min\u001b[0m \u001b[0mtext1\u001b[0m\u001b[1;33m:\u001b[0m\u001b[1;33m\u001b[0m\u001b[1;33m\u001b[0m\u001b[0m\n\u001b[0m\u001b[0;32m      6\u001b[0m     \u001b[1;32mif\u001b[0m \u001b[0mlen\u001b[0m\u001b[1;33m(\u001b[0m\u001b[0mi\u001b[0m\u001b[1;33m)\u001b[0m\u001b[1;33m>\u001b[0m\u001b[1;36m17\u001b[0m\u001b[1;33m:\u001b[0m\u001b[1;33m\u001b[0m\u001b[1;33m\u001b[0m\u001b[0m\n\u001b[0;32m      7\u001b[0m             \u001b[0mletter17\u001b[0m\u001b[1;33m.\u001b[0m\u001b[0mappend\u001b[0m\u001b[1;33m(\u001b[0m\u001b[0mi\u001b[0m\u001b[1;33m)\u001b[0m\u001b[1;33m\u001b[0m\u001b[1;33m\u001b[0m\u001b[0m\n",
      "\u001b[1;31mNameError\u001b[0m: name 'text1' is not defined"
     ]
    }
   ],
   "source": [
    "#zadanie 3 W text1 znajdź wszystkie wystąpienia słów długości większej niż 17.\n",
    "letter17=[]\n",
    "inter = [\"!\",\".\",\"?\",\":\",\";\",\",\",\"-\",'0',\"''\",'1', '2', '3', '4', '5', '6', '7', '8', '9']\n",
    "\n",
    "for i in text1:\n",
    "    if len(i)>17:\n",
    "            letter17.append(i)\n",
    "for j in inter:\n",
    "    for i in letter17:\n",
    "        if j in i:\n",
    "            letter17.remove(i)\n",
    "\n",
    "print(letter17)\n",
    "print(len(letter17))"
   ]
  },
  {
   "cell_type": "code",
   "execution_count": 15,
   "metadata": {},
   "outputs": [
    {
     "name": "stdout",
     "output_type": "stream",
     "text": [
      "['Call', 'Ishmael', 'me']\n",
      "['.', 'Dashwood', 'Sussex', 'The', 'been', 'family', 'had', 'in', 'long', 'of', 'settled']\n",
      "['.', 'God', 'In', 'and', 'beginning', 'created', 'earth', 'heaven', 'the']\n",
      "['-', ':', 'Citizens', 'Fellow', 'House', 'Representatives', 'Senate', 'and', 'of', 'the']\n",
      "['I', 'JOIN', 'PMing', 'a', 'have', 'lol', 'me', 'people', 'problem', 'to', 'with']\n",
      "['!', '1', ':', 'ARTHUR', 'KING', 'SCENE', 'Whoa', '[', ']', 'clop', 'there', 'wind']\n",
      "[',', '.', '29', '61', 'Nov.', 'Pierre', 'Vinken', 'a', 'as', 'board', 'director', 'join', 'nonexecutive', 'old', 'the', 'will', 'years']\n",
      "[',', '.', '25', 'MALE', 'SEXY', 'attrac', 'discreet', 'encounters', 'for', 'lady', 'older', 'seeks', 'single']\n",
      "[',', '.', 'London', 'Park', 'Saffron', 'THE', 'a', 'and', 'as', 'cloud', 'lay', 'of', 'on', 'ragged', 'red', 'side', 'suburb', 'sunset', 'the']\n"
     ]
    }
   ],
   "source": [
    "#zadanie 4\n",
    "#Korzystając z funkcji set i sorted wyznacz słownik dla każdego ze zdań\n",
    "#sent1, . . . , sent8 oraz wspólny słownik dla wszystkich wymienionych\n",
    "#zdań.\n",
    "def słownik(sent):\n",
    "    return(sorted(set(sent)))\n",
    "\n",
    "print(słownik(sent1))\n",
    "print(słownik(sent2))\n",
    "print(słownik(sent3))\n",
    "print(słownik(sent4))\n",
    "print(słownik(sent5))\n",
    "print(słownik(sent6))\n",
    "print(słownik(sent7))\n",
    "print(słownik(sent8))\n",
    "print(słownik(sent9))\n",
    "\n",
    "sents = sorted(set(sent1+sent2+sent3+sent4+sent5+sent6+sent7+sent8+sent9))"
   ]
  },
  {
   "cell_type": "code",
   "execution_count": 21,
   "metadata": {},
   "outputs": [
    {
     "name": "stdout",
     "output_type": "stream",
     "text": [
      "19317\n",
      "6833\n",
      "2789\n",
      "9913\n",
      "6066\n",
      "2166\n",
      "12408\n",
      "1108\n",
      "6807\n"
     ]
    }
   ],
   "source": [
    "#zadanie 5\n",
    "#Podaj definicję funkcji VocabSize(), która dla tekstu zwraca rozmiar\n",
    "#słownika - czyli wylicza ile jest słów różnych. Zastosuj do każdego z\n",
    "#tekstów z nltk.book.\n",
    "def VocabSize(text):\n",
    "    return len(set(text))\n",
    "print(VocabSize(text1))\n",
    "print(VocabSize(text2))\n",
    "print(VocabSize(text3))\n",
    "print(VocabSize(text4))\n",
    "print(VocabSize(text5))\n",
    "print(VocabSize(text6))\n",
    "print(VocabSize(text7))\n",
    "print(VocabSize(text8))\n",
    "print(VocabSize(text9))"
   ]
  },
  {
   "cell_type": "code",
   "execution_count": 22,
   "metadata": {},
   "outputs": [
    {
     "name": "stdout",
     "output_type": "stream",
     "text": [
      "[('to', 4063), ('the', 3861), ('of', 3565), ('and', 3350), ('her', 2436), ('a', 2043), ('I', 2004), ('in', 1904), ('was', 1846), ('it', 1568)]\n"
     ]
    }
   ],
   "source": [
    "#zadanie 6\n",
    "#Wyznacz 10 najczęsciej występujących słów w text1.\n",
    "inter = [\"!\",\".\",\"?\",\":\",\";\",\",\",\"-\"]\n",
    "\n",
    "\n",
    "def word_count(text):\n",
    "    v=text\n",
    "    counts=dict()\n",
    "    for word in text:\n",
    "        if word not in inter:\n",
    "            if word in counts:\n",
    "                counts[word]+=1\n",
    "            else:\n",
    "                counts[word]=1\n",
    "    counts= sorted(counts.items(), key=operator.itemgetter(1),reverse=True)\n",
    "    return counts[:10]\n",
    "print(word_count(text2))"
   ]
  },
  {
   "cell_type": "code",
   "execution_count": 44,
   "metadata": {},
   "outputs": [
    {
     "name": "stdout",
     "output_type": "stream",
     "text": [
      "uninterpenetratingly\n",
      "disinterestedness\n",
      "interpretations\n",
      "antiphilosophists\n",
      "//www.wunderground.com/cgi-bin/findweather/getForecast?query=95953#FIR\n",
      "automatically\n",
      "marketing-communications\n",
      "DISCIPLINARIAN\n",
      "undenominational\n"
     ]
    }
   ],
   "source": [
    "#zadanie 7\n",
    "#Sprawdź jakie są najdłuższe słowa w każdym z tekstów text1,..., text6.\n",
    "def longest_word(text):\n",
    "    maxi=text[0]\n",
    "    for i in text:\n",
    "        if int(len(i))>len(maxi):\n",
    "            maxi=i\n",
    "    return maxi\n",
    "print(longest_word(text1))\n",
    "print(longest_word(text2))\n",
    "print(longest_word(text3))\n",
    "print(longest_word(text4))\n",
    "print(longest_word(text5))\n",
    "print(longest_word(text6))\n",
    "print(longest_word(text7))\n",
    "print(longest_word(text8))\n",
    "print(longest_word(text9))\n"
   ]
  }
 ],
 "metadata": {
  "kernelspec": {
   "display_name": "Python 3",
   "language": "python",
   "name": "python3"
  },
  "language_info": {
   "codemirror_mode": {
    "name": "ipython",
    "version": 3
   },
   "file_extension": ".py",
   "mimetype": "text/x-python",
   "name": "python",
   "nbconvert_exporter": "python",
   "pygments_lexer": "ipython3",
   "version": "3.7.3"
  }
 },
 "nbformat": 4,
 "nbformat_minor": 2
}
