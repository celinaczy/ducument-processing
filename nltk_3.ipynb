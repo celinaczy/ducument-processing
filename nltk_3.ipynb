{
 "cells": [
  {
   "cell_type": "code",
   "execution_count": 5,
   "metadata": {},
   "outputs": [],
   "source": [
    "import nltk\n",
    "from nltk.corpus import wordnet as wn\n",
    "from nltk.corpus import sentiwordnet as swn\n",
    "from nltk.corpus import udhr\n",
    "import matplotlib.pyplot as plt\n",
    "from nltk.corpus import ptb\n",
    "from nltk.corpus import brown\n",
    "from nltk.corpus import inaugural\n",
    "import operator\n",
    "from nltk.corpus import stopwords\n",
    "from nltk import word_tokenize"
   ]
  },
  {
   "cell_type": "code",
   "execution_count": 329,
   "metadata": {},
   "outputs": [],
   "source": [
    "from nltk.book import *"
   ]
  },
  {
   "cell_type": "code",
   "execution_count": 330,
   "metadata": {},
   "outputs": [
    {
     "data": {
      "text/plain": [
       "[Synset('dog.n.01'),\n",
       " Synset('frump.n.01'),\n",
       " Synset('dog.n.03'),\n",
       " Synset('cad.n.01'),\n",
       " Synset('frank.n.02'),\n",
       " Synset('pawl.n.01'),\n",
       " Synset('andiron.n.01'),\n",
       " Synset('chase.v.01')]"
      ]
     },
     "execution_count": 330,
     "metadata": {},
     "output_type": "execute_result"
    }
   ],
   "source": [
    "#1. Przetestować przykłady z wykładu Korpusy\n",
    "wn.synsets(\"dog\")"
   ]
  },
  {
   "cell_type": "code",
   "execution_count": 331,
   "metadata": {},
   "outputs": [
    {
     "name": "stdout",
     "output_type": "stream",
     "text": [
      "the dog barked all night\n"
     ]
    }
   ],
   "source": [
    "#1. Przetestować przykłady z wykładu Korpusy\n",
    "wn.synsets('dog', pos='v')\n",
    "print(wn.synset('dog.n.01').examples()[0])"
   ]
  },
  {
   "cell_type": "code",
   "execution_count": 8,
   "metadata": {},
   "outputs": [
    {
     "data": {
      "text/plain": [
       "['als',\n",
       " 'arb',\n",
       " 'bul',\n",
       " 'cat',\n",
       " 'cmn',\n",
       " 'dan',\n",
       " 'ell',\n",
       " 'eng',\n",
       " 'eus',\n",
       " 'fas',\n",
       " 'fin',\n",
       " 'fra',\n",
       " 'glg',\n",
       " 'heb',\n",
       " 'hrv',\n",
       " 'ind',\n",
       " 'ita',\n",
       " 'jpn',\n",
       " 'nld',\n",
       " 'nno',\n",
       " 'nob',\n",
       " 'pol',\n",
       " 'por',\n",
       " 'qcn',\n",
       " 'slv',\n",
       " 'spa',\n",
       " 'swe',\n",
       " 'tha',\n",
       " 'zsm']"
      ]
     },
     "execution_count": 8,
     "metadata": {},
     "output_type": "execute_result"
    }
   ],
   "source": [
    "#1. Przetestować przykłady z wykładu Korpusy\n",
    "sorted(wn.langs())"
   ]
  },
  {
   "cell_type": "code",
   "execution_count": 332,
   "metadata": {},
   "outputs": [
    {
     "data": {
      "text/plain": [
       "['cane', 'Canis_familiaris']"
      ]
     },
     "execution_count": 332,
     "metadata": {},
     "output_type": "execute_result"
    }
   ],
   "source": [
    "#1. Przetestować przykłady z wykładu Korpusy\n",
    "#Jakie synsety odpowiadają ’dog’ w języku włoskim?\n",
    "wn.synset('dog.n.01').lemma_names('ita')"
   ]
  },
  {
   "cell_type": "code",
   "execution_count": 333,
   "metadata": {},
   "outputs": [
    {
     "data": {
      "text/plain": [
       "['pies', 'pies_domowy']"
      ]
     },
     "execution_count": 333,
     "metadata": {},
     "output_type": "execute_result"
    }
   ],
   "source": [
    "#1. Przetestować przykłady z wykładu Korpusy\n",
    "#Jakie synsety odpowiadają ’dog’ w języku polskim?\n",
    "wn.synset('dog.n.01').lemma_names('pol')"
   ]
  },
  {
   "cell_type": "code",
   "execution_count": 334,
   "metadata": {},
   "outputs": [
    {
     "name": "stdout",
     "output_type": "stream",
     "text": [
      "0.2\n"
     ]
    }
   ],
   "source": [
    "#1. Przetestować przykłady z wykładu Korpusy\n",
    "dog=wn.synset('dog.n.01')\n",
    "cat=wn.synset('cat.n.01')\n",
    "print(dog.path_similarity(cat))"
   ]
  },
  {
   "cell_type": "code",
   "execution_count": 335,
   "metadata": {},
   "outputs": [
    {
     "name": "stdout",
     "output_type": "stream",
     "text": [
      "<breakdown.n.03: PosScore=0.0 NegScore=0.25>\n"
     ]
    }
   ],
   "source": [
    "#1. Przetestować przykłady z wykładu Korpusy\n",
    "breakdown = swn.senti_synset('breakdown.n.03')\n",
    "print(breakdown)"
   ]
  },
  {
   "cell_type": "code",
   "execution_count": 336,
   "metadata": {},
   "outputs": [
    {
     "data": {
      "image/png": "[encoded data removed]",
      "text/plain": [
       "<Figure size 432x288 with 1 Axes>"
      ]
     },
     "metadata": {
      "needs_background": "light"
     },
     "output_type": "display_data"
    },
    {
     "data": {
      "text/plain": [
       "<matplotlib.axes._subplots.AxesSubplot at 0x14036851cf8>"
      ]
     },
     "execution_count": 336,
     "metadata": {},
     "output_type": "execute_result"
    }
   ],
   "source": [
    "#1. Przetestować przykłady z wykładu Korpusy\n",
    "#sprawdzenie dostepnych jezykow oraz kodowania UTF8,\n",
    "#Latin1, Latin2\n",
    "udhr.fileids()\n",
    "languages = ['Czech_Cesky', 'Polish']\n",
    "cfd = nltk.ConditionalFreqDist((lang, len(word))\n",
    "for lang in languages\n",
    "for word in udhr.words(lang + '-Latin2'))\n",
    "#wykres ilustruje roznice w dlugosciach slow\n",
    "cfd.plot(cumulative=True)"
   ]
  },
  {
   "cell_type": "code",
   "execution_count": 337,
   "metadata": {},
   "outputs": [
    {
     "name": "stdout",
     "output_type": "stream",
     "text": [
      "133737\n",
      "('fir', ['F', 'ER1'])\n",
      "('fire', ['F', 'AY1', 'ER0'])\n",
      "('fire', ['F', 'AY1', 'R'])\n",
      "('firearm', ['F', 'AY1', 'ER0', 'AA2', 'R', 'M'])\n",
      "('firearm', ['F', 'AY1', 'R', 'AA2', 'R', 'M'])\n",
      "('firearms', ['F', 'AY1', 'ER0', 'AA2', 'R', 'M', 'Z'])\n",
      "('firearms', ['F', 'AY1', 'R', 'AA2', 'R', 'M', 'Z'])\n",
      "('fireball', ['F', 'AY1', 'ER0', 'B', 'AO2', 'L'])\n"
     ]
    }
   ],
   "source": [
    "#1. Przetestować przykłady z wykładu Korpusy\n",
    "entries = nltk.corpus.cmudict.entries()\n",
    "print(len(entries))\n",
    "for entry in entries[42371:42379]:\n",
    "    print(entry)\n",
    "    prondict = nltk.corpus.cmudict.dict()"
   ]
  },
  {
   "cell_type": "code",
   "execution_count": 339,
   "metadata": {},
   "outputs": [
    {
     "data": {
      "text/plain": [
       "['austen-emma.txt',\n",
       " 'austen-persuasion.txt',\n",
       " 'austen-sense.txt',\n",
       " 'bible-kjv.txt',\n",
       " 'blake-poems.txt',\n",
       " 'bryant-stories.txt',\n",
       " 'burgess-busterbrown.txt',\n",
       " 'carroll-alice.txt',\n",
       " 'chesterton-ball.txt',\n",
       " 'chesterton-brown.txt',\n",
       " 'chesterton-thursday.txt',\n",
       " 'edgeworth-parents.txt',\n",
       " 'melville-moby_dick.txt',\n",
       " 'milton-paradise.txt',\n",
       " 'shakespeare-caesar.txt',\n",
       " 'shakespeare-hamlet.txt',\n",
       " 'shakespeare-macbeth.txt',\n",
       " 'whitman-leaves.txt']"
      ]
     },
     "execution_count": 339,
     "metadata": {},
     "output_type": "execute_result"
    }
   ],
   "source": [
    "#2. Sprawdzić nazwy plików w korpusie Gutenberg.\n",
    "nltk.corpus.gutenberg.fileids()"
   ]
  },
  {
   "cell_type": "code",
   "execution_count": 52,
   "metadata": {},
   "outputs": [
    {
     "data": {
      "text/plain": [
       "['1789-Washington.txt',\n",
       " '1793-Washington.txt',\n",
       " '1797-Adams.txt',\n",
       " '1801-Jefferson.txt',\n",
       " '1805-Jefferson.txt',\n",
       " '1809-Madison.txt',\n",
       " '1813-Madison.txt',\n",
       " '1817-Monroe.txt',\n",
       " '1821-Monroe.txt',\n",
       " '1825-Adams.txt',\n",
       " '1829-Jackson.txt',\n",
       " '1833-Jackson.txt',\n",
       " '1837-VanBuren.txt',\n",
       " '1841-Harrison.txt',\n",
       " '1845-Polk.txt',\n",
       " '1849-Taylor.txt',\n",
       " '1853-Pierce.txt',\n",
       " '1857-Buchanan.txt',\n",
       " '1861-Lincoln.txt',\n",
       " '1865-Lincoln.txt',\n",
       " '1869-Grant.txt',\n",
       " '1873-Grant.txt',\n",
       " '1877-Hayes.txt',\n",
       " '1881-Garfield.txt',\n",
       " '1885-Cleveland.txt',\n",
       " '1889-Harrison.txt',\n",
       " '1893-Cleveland.txt',\n",
       " '1897-McKinley.txt',\n",
       " '1901-McKinley.txt',\n",
       " '1905-Roosevelt.txt',\n",
       " '1909-Taft.txt',\n",
       " '1913-Wilson.txt',\n",
       " '1917-Wilson.txt',\n",
       " '1921-Harding.txt',\n",
       " '1925-Coolidge.txt',\n",
       " '1929-Hoover.txt',\n",
       " '1933-Roosevelt.txt',\n",
       " '1937-Roosevelt.txt',\n",
       " '1941-Roosevelt.txt',\n",
       " '1945-Roosevelt.txt',\n",
       " '1949-Truman.txt',\n",
       " '1953-Eisenhower.txt',\n",
       " '1957-Eisenhower.txt',\n",
       " '1961-Kennedy.txt',\n",
       " '1965-Johnson.txt',\n",
       " '1969-Nixon.txt',\n",
       " '1973-Nixon.txt',\n",
       " '1977-Carter.txt',\n",
       " '1981-Reagan.txt',\n",
       " '1985-Reagan.txt',\n",
       " '1989-Bush.txt',\n",
       " '1993-Clinton.txt',\n",
       " '1997-Clinton.txt',\n",
       " '2001-Bush.txt',\n",
       " '2005-Bush.txt',\n",
       " '2009-Obama.txt',\n",
       " '2013-Obama.txt',\n",
       " '2017-Trump.txt']"
      ]
     },
     "execution_count": 52,
     "metadata": {},
     "output_type": "execute_result"
    }
   ],
   "source": [
    "#3. Sprawdzić nazwy plików w korpusie Inaugural Address Corpus.\n",
    "nltk.corpus.inaugural.fileids()"
   ]
  },
  {
   "cell_type": "code",
   "execution_count": 340,
   "metadata": {},
   "outputs": [
    {
     "data": {
      "text/plain": [
       "['neg', 'pos']"
      ]
     },
     "execution_count": 340,
     "metadata": {},
     "output_type": "execute_result"
    }
   ],
   "source": [
    "#4. Jakie kategorie występują w korpusie Movie Reviews.\n",
    "nltk.corpus.movie_reviews.categories()"
   ]
  },
  {
   "cell_type": "code",
   "execution_count": 341,
   "metadata": {},
   "outputs": [
    {
     "data": {
      "text/plain": [
       "[['My', 'fellow', 'citizens', ':', 'Anyone', 'who', 'has', 'taken', 'the', 'oath', 'I', 'have', 'just', 'taken', 'must', 'feel', 'a', 'heavy', 'weight', 'of', 'responsibility', '.'], ['If', 'not', ',', 'he', 'has', 'no', 'conception', 'of', 'the', 'powers', 'and', 'duties', 'of', 'the', 'office', 'upon', 'which', 'he', 'is', 'about', 'to', 'enter', ',', 'or', 'he', 'is', 'lacking', 'in', 'a', 'proper', 'sense', 'of', 'the', 'obligation', 'which', 'the', 'oath', 'imposes', '.'], ...]"
      ]
     },
     "execution_count": 341,
     "metadata": {},
     "output_type": "execute_result"
    }
   ],
   "source": [
    "#5.Wydrukuj zdania występujace w korpusie Inaugural Corpus Address w pliku ’1909-Taft.txt’.\n",
    "nltk.corpus.inaugural.sents('1909-Taft.txt')"
   ]
  },
  {
   "cell_type": "code",
   "execution_count": 342,
   "metadata": {},
   "outputs": [
    {
     "name": "stdout",
     "output_type": "stream",
     "text": [
      "5\n",
      "0\n",
      "0\n"
     ]
    }
   ],
   "source": [
    "#6. Napisz skrypt, służący do sprawdzenia jak często w korpusie Brown w kategorii ’adventure’ \n",
    "#występują słowa ’mountains’, ’ocean’, ’Bungee jump’.\n",
    "print(brown.words(categories='adventure').count('mountains'))\n",
    "print(brown.words(categories='adventure').count('ocean'))\n",
    "print(brown.words(categories='adventure').count('Bungee jump'))"
   ]
  },
  {
   "cell_type": "code",
   "execution_count": 343,
   "metadata": {},
   "outputs": [
    {
     "name": "stdout",
     "output_type": "stream",
     "text": [
      "[('the', 9446), ('of', 7087), ('and', 5146), ('to', 4414), ('in', 2561), ('a', 2184), ('our', 2021), ('that', 1748), ('be', 1483), ('is', 1448)]\n"
     ]
    }
   ],
   "source": [
    "#7. Wyszukaj 10 najczęsciej występujących słów w korpusie ’inaugural’.\n",
    "\n",
    "inter = [\"!\",\".\",\"?\",\":\",\";\",\",\",\"-\"]\n",
    "def word_count(text):\n",
    "    v=text\n",
    "    counts=dict()\n",
    "    for word in text:\n",
    "        if word not in inter:\n",
    "            if word in counts:\n",
    "                counts[word]+=1\n",
    "            else:\n",
    "                counts[word]=1\n",
    "    counts= sorted(counts.items(), key=operator.itemgetter(1),reverse=True)\n",
    "    return counts[:10]\n",
    "print(word_count(inaugural.words()))"
   ]
  },
  {
   "cell_type": "code",
   "execution_count": 344,
   "metadata": {},
   "outputs": [
    {
     "name": "stdout",
     "output_type": "stream",
     "text": [
      "text1 38.16%\n",
      "text2 43.32%\n",
      "text3 40.01%\n",
      "text4 44.42%\n",
      "text5 26.69%\n"
     ]
    }
   ],
   "source": [
    "#8. Zdefiniuj funkcję, która dla tekstu zlicza jaki procent stanowią słowa\n",
    "#spoza listy stopwords. Zastosuj funkcję do każdego z tekstów z NLTK\n",
    "#Book.\n",
    "def procent_not_stopwords(text):\n",
    "    stop_words = set(stopwords.words('english'))\n",
    "    stop_in_text = [i for i in text if i in stop_words]\n",
    "    ile = (len(stop_in_text)/len(text))*100\n",
    "    print(\"{:.2f}\".format(ile)+\"%\")\n",
    "    \n",
    "teksty = [text1, text2, text3, text4,text5]\n",
    "a=1\n",
    "for i in teksty:\n",
    "    print(\"text\"+str(a), end=\" \")\n",
    "    procent_not_stopwords(i)\n",
    "    a+=1"
   ]
  },
  {
   "cell_type": "code",
   "execution_count": 345,
   "metadata": {},
   "outputs": [
    {
     "name": "stdout",
     "output_type": "stream",
     "text": [
      "<journalist.n.01: PosScore=0.0 NegScore=0.0>\n",
      "<writer.n.01: PosScore=0.0 NegScore=0.0>\n",
      "<actor.n.01: PosScore=0.0 NegScore=0.0>\n",
      "<singer.n.01: PosScore=0.0 NegScore=0.0>\n"
     ]
    }
   ],
   "source": [
    "#9. Sprawdź jaki jest wydźwięk słów: journalist, writer, actor, singer.\n",
    "\n",
    "print(swn.senti_synset('journalist.n.01'))\n",
    "print(swn.senti_synset('writer.n.01'))\n",
    "print(swn.senti_synset('actor.n.01'))\n",
    "print(swn.senti_synset('singer.n.01'))\n"
   ]
  },
  {
   "cell_type": "code",
   "execution_count": 346,
   "metadata": {},
   "outputs": [
    {
     "name": "stdout",
     "output_type": "stream",
     "text": [
      "0.33\n",
      "0.25\n",
      "0.20\n",
      "0.20\n",
      "0.09\n",
      "0.05\n"
     ]
    }
   ],
   "source": [
    "#10. Zaproponuj miarę podobienstwa dla rzeczowników i sprawdź, czy dla poniższej listy (w kolejnosci malejącego podobienstwa) uporządkowanie będzie zgodne z poniższym: • boy-lad • journey-voyage • coast-hill • monk-slave • food-fruit • journey-car\n",
    "def similarity(word1,word2):\n",
    "    word_1=wn.synsets(word1)[0]\n",
    "    word_2=wn.synsets(word2)[0] \n",
    "    print(\"{:.2f}\".format(word_1.path_similarity(word_2)))\n",
    "similarity(\"boy\",\"lad\")\n",
    "similarity(\"journey\",\"voyage\")\n",
    "similarity(\"coast\",\"hill\")\n",
    "similarity(\"monk\",\"slave\")\n",
    "similarity(\"food\",\"fruit\")\n",
    "similarity(\"journey\",\"car\")\n",
    "\n",
    "#ta sama kolejność "
   ]
  },
  {
   "cell_type": "code",
   "execution_count": 7,
   "metadata": {},
   "outputs": [
    {
     "name": "stdout",
     "output_type": "stream",
     "text": [
      "austen-emma.txt\n",
      "3.76\n",
      "24.83\n",
      "24.64\n",
      "---------\n",
      "austen-persuasion.txt\n",
      "3.87\n",
      "26.20\n",
      "16.01\n",
      "---------\n",
      "austen-sense.txt\n",
      "3.88\n",
      "28.33\n",
      "20.72\n",
      "---------\n",
      "bible-kjv.txt\n",
      "3.45\n",
      "33.57\n",
      "73.40\n",
      "---------\n",
      "blake-poems.txt\n",
      "3.50\n",
      "19.08\n",
      "4.59\n",
      "---------\n",
      "bryant-stories.txt\n",
      "3.50\n",
      "19.41\n",
      "12.57\n",
      "---------\n",
      "burgess-busterbrown.txt\n",
      "3.52\n",
      "17.99\n",
      "10.75\n",
      "---------\n",
      "carroll-alice.txt\n",
      "3.40\n",
      "20.03\n",
      "11.31\n",
      "---------\n",
      "chesterton-ball.txt\n",
      "3.82\n",
      "20.30\n",
      "10.84\n",
      "---------\n",
      "chesterton-brown.txt\n",
      "3.79\n",
      "22.61\n",
      "10.37\n",
      "---------\n",
      "chesterton-thursday.txt\n",
      "3.77\n",
      "18.50\n",
      "10.17\n",
      "---------\n",
      "edgeworth-parents.txt\n",
      "3.51\n",
      "20.60\n",
      "21.96\n",
      "---------\n",
      "melville-moby_dick.txt\n",
      "3.83\n",
      "25.93\n",
      "13.50\n",
      "---------\n",
      "milton-paradise.txt\n",
      "3.89\n",
      "52.31\n",
      "9.01\n",
      "---------\n",
      "shakespeare-caesar.txt\n",
      "3.44\n",
      "11.94\n",
      "7.26\n",
      "---------\n",
      "shakespeare-hamlet.txt\n",
      "3.46\n",
      "12.03\n",
      "6.86\n",
      "---------\n",
      "shakespeare-macbeth.txt\n",
      "3.47\n",
      "12.13\n",
      "5.76\n",
      "---------\n",
      "whitman-leaves.txt\n",
      "3.70\n",
      "36.44\n",
      "10.81\n",
      "---------\n"
     ]
    }
   ],
   "source": [
    "#11. Dla korpusu Gutenberg podać dla kazdego tekstu następujące dane:\n",
    "#nazwa pliku, srednia liczba znaków w słowie, srednia liczba słów w\n",
    "#zdaniu, srednia liczba powtórzeń tego samego słowa.\n",
    "\n",
    "def avg_word_len(words):\n",
    "    total_lens = 0\n",
    "    for j in words:\n",
    "        total_lens += len(j)\n",
    "    return(total_lens/len(words))\n",
    "\n",
    "def avg_sent_len(text):\n",
    "    total_lens = 0\n",
    "    for sent in text:\n",
    "        total_lens += len(sent)\n",
    "    avg_sent_len = total_lens / len(sents)\n",
    "    return(avg_sent_len)\n",
    "\n",
    "def avg_repeat(words):\n",
    "    avg_repeat=len(words)/len(set(words))\n",
    "    return(avg_repeat)\n",
    "\n",
    "for i in nltk.corpus.gutenberg.fileids():\n",
    "    print(i)\n",
    "    words = nltk.corpus.gutenberg.words(i)\n",
    "    sents = nltk.corpus.gutenberg.sents(i)\n",
    "    print(\"{:.2f}\".format(avg_word_len(words)))\n",
    "    print(\"{:.2f}\".format(avg_sent_len(sents)))\n",
    "    print(\"{:.2f}\".format(avg_repeat(words)))\n",
    "    print(\"---------\")\n",
    "    "
   ]
  },
  {
   "cell_type": "code",
   "execution_count": 349,
   "metadata": {},
   "outputs": [
    {
     "data": {
      "text/plain": [
       "[('NOUN', 708),\n",
       " ('VERB', 382),\n",
       " ('DET', 278),\n",
       " ('.', 254),\n",
       " ('ADP', 253),\n",
       " ('ADJ', 118),\n",
       " ('ADV', 58),\n",
       " ('PRT', 57),\n",
       " ('PRON', 48),\n",
       " ('CONJ', 47),\n",
       " ('NUM', 39)]"
      ]
     },
     "execution_count": 349,
     "metadata": {},
     "output_type": "execute_result"
    }
   ],
   "source": [
    "#12. Dla wybranego dokumentu z korpusu Browna wylicz częstosci wystąpień słów z poszczególnymi znacznikami z listy uproszczonej. Jakie znaczniki są najczęstsze?\n",
    "nltk.corpus.brown.tagged_words(tagset='universal')\n",
    "brown_news_tagged = brown.tagged_words(fileids='ca01',tagset='universal')\n",
    "tag_fd = nltk.FreqDist(tag for (word, tag) in brown_news_tagged)\n",
    "tag_fd.most_common()"
   ]
  },
  {
   "cell_type": "code",
   "execution_count": 350,
   "metadata": {},
   "outputs": [
    {
     "name": "stdout",
     "output_type": "stream",
     "text": [
      "combined to achieve\n",
      "continue to place\n",
      "serve to protect\n",
      "wanted to wait\n",
      "-----\n",
      "refuse to permit\n",
      "Born to be\n",
      "Born to die\n",
      "shoot to kill\n",
      "refuse to die\n"
     ]
    }
   ],
   "source": [
    "#13. Zdefiniować funkcję, która dla zadanego zdania wyszukuje 3-gramy pasujące do wzorca czasownik+TO+czasownik. Przetestować na 5 wybranych przykładach.\n",
    "def process(sentence):\n",
    "    for (w1,t1), (w2,t2), (w3,t3) in nltk.trigrams(sentence):\n",
    "        if (t1.startswith('V') and t2 == 'TO' and t3.startswith('V')):\n",
    "            print(w1, w2, w3)\n",
    "#dla zdań z korpusu \n",
    "for tagged_sent in brown.tagged_sents()[:50]:\n",
    "    process(tagged_sent)\n",
    "#dla własnych zdań \n",
    "text1 = nltk.pos_tag(word_tokenize(\"They refuse to permit us to obtain the refuse permit\"))\n",
    "text2 = nltk.pos_tag(word_tokenize(\"Born to be wild\"))\n",
    "text3 = nltk.pos_tag(word_tokenize(\"Born to die\"))\n",
    "text4 = nltk.pos_tag(word_tokenize(\"I ordered them to shoot to kill\"))\n",
    "text5 = nltk.pos_tag(word_tokenize(\"They refuse to die\"))\n",
    "\n",
    "def process(sentence):\n",
    "    for (w1,t1), (w2,t2), (w3,t3) in nltk.trigrams(sentence):\n",
    "        if (t1.startswith('VB') and t2 == 'TO' and t3.startswith('VB')):\n",
    "            print(w1, w2, w3)\n",
    "print(\"-----\")            \n",
    "process(text1)\n",
    "process(text2)\n",
    "process(text3)\n",
    "process(text4)\n",
    "process(text5)"
   ]
  }
 ],
 "metadata": {
  "kernelspec": {
   "display_name": "Python 3",
   "language": "python",
   "name": "python3"
  },
  "language_info": {
   "codemirror_mode": {
    "name": "ipython",
    "version": 3
   },
   "file_extension": ".py",
   "mimetype": "text/x-python",
   "name": "python",
   "nbconvert_exporter": "python",
   "pygments_lexer": "ipython3",
   "version": "3.7.3"
  }
 },
 "nbformat": 4,
 "nbformat_minor": 2
}
